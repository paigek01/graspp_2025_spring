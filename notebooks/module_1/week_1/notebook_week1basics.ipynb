{
 "cells": [
  {
   "cell_type": "markdown",
   "metadata": {},
   "source": [
    "# Module 1--The basics of Python\n",
    "\n",
    "\n",
    "- Module 1 covers python basics\n",
    "    - Notes (Current page)\n",
    "    - Youtube video"
   ]
  },
  {
   "cell_type": "markdown",
   "metadata": {},
   "source": [
    "## I.1 Running Python\n",
    "\n",
    "\n",
    "### I.1.1 Google's Colab  (for beginners)\n",
    "- My recommendation for those new to python\n",
    "- See Section I.2 on how Colab can be launched for free from your google drive by clicking on the following button\n",
    "\n",
    "### I.1.2 Anaconda (for more experienced users)\n",
    "- Anaconda downloads python and jupyter notebook (you are currently viewing a jupyter notebook)\n",
    "- [Link](https://www.anaconda.com/products/individual)\n",
    "\n",
    "### I.1.3 UV (for advanced users)\n",
    "- UV downloads python and allows for version control\n",
    "- [Link](v/getting-started/installation/)\n",
    "\n",
    "### I.1.4 UV (for beginners)\n",
    "- Use binder by clicking on the binder button on our course homepage: https://github.com/Data-Science-Public-Policy/graspp_2025_spring/tree/main\n",
    "\n",
    "<img src=\"Screenshots/binder.png\" />\n"
   ]
  },
  {
   "cell_type": "markdown",
   "metadata": {},
   "source": [
    "## I.2 How to run Google Co-lab\n",
    "### I.2.1 How to launch\n",
    "<img src=\"Screenshots/colab.png\" style=\"width: 500px; height: 500px;\" />\n",
    "\n",
    "### I.2.2 How to run colab\n",
    "\n",
    "- Run code:\n",
    "    - Press play button next to code line\n",
    "    - Shift + Return\n",
    "        - Short cut for macs\n",
    "        \n",
    "- Reset notebook\n",
    "    - Runtime -> Restart runtime\n",
    "    \n",
    "- Code versus text cells\n",
    "    - You cannot run code in a text cell!"
   ]
  },
  {
   "cell_type": "markdown",
   "metadata": {},
   "source": [
    "# 1. Importing Data\n",
    "- All data and code for this course including this notebook is viewable on our course page below\n",
    "    - https://github.com/Data-Science-Public-Policy/graspp_2025_spring/tree/main"
   ]
  },
  {
   "cell_type": "markdown",
   "metadata": {},
   "source": [
    "## 1.1. Importing data from our class page/the internet"
   ]
  },
  {
   "cell_type": "markdown",
   "metadata": {},
   "source": [
    "### 1.1.A. Saving information in this notebook"
   ]
  },
  {
   "cell_type": "code",
   "execution_count": 1,
   "metadata": {},
   "outputs": [],
   "source": [
    "# This line saves the web address (URL) of the World Bank data file as text in a variable named 'url'.\n",
    "url = \"https://github.com/Data-Science-Public-Policy/graspp_2025_spring/raw/refs/heads/module_1/data/examples/module_1/world_bank_data.csv\""
   ]
  },
  {
   "cell_type": "code",
   "execution_count": 2,
   "metadata": {},
   "outputs": [
    {
     "data": {
      "text/plain": [
       "'https://github.com/Data-Science-Public-Policy/graspp_2025_spring/raw/refs/heads/module_1/data/examples/module_1/world_bank_data.csv'"
      ]
     },
     "execution_count": 2,
     "metadata": {},
     "output_type": "execute_result"
    }
   ],
   "source": [
    "# This line prints the url\n",
    "url"
   ]
  },
  {
   "cell_type": "markdown",
   "metadata": {},
   "source": [
    "### 1.1.1 Importing the data"
   ]
  },
  {
   "cell_type": "code",
   "execution_count": 3,
   "metadata": {},
   "outputs": [
    {
     "data": {
      "text/html": [
       "<div>\n",
       "<style scoped>\n",
       "    .dataframe tbody tr th:only-of-type {\n",
       "        vertical-align: middle;\n",
       "    }\n",
       "\n",
       "    .dataframe tbody tr th {\n",
       "        vertical-align: top;\n",
       "    }\n",
       "\n",
       "    .dataframe thead th {\n",
       "        text-align: right;\n",
       "    }\n",
       "</style>\n",
       "<table border=\"1\" class=\"dataframe\">\n",
       "  <thead>\n",
       "    <tr style=\"text-align: right;\">\n",
       "      <th></th>\n",
       "      <th>Unnamed: 0</th>\n",
       "      <th>indicator</th>\n",
       "      <th>country</th>\n",
       "      <th>countryiso3code</th>\n",
       "      <th>date</th>\n",
       "      <th>value</th>\n",
       "    </tr>\n",
       "  </thead>\n",
       "  <tbody>\n",
       "    <tr>\n",
       "      <th>0</th>\n",
       "      <td>0</td>\n",
       "      <td>GDP per capita (current US$)</td>\n",
       "      <td>Canada</td>\n",
       "      <td>CAN</td>\n",
       "      <td>2023</td>\n",
       "      <td>53431.185706</td>\n",
       "    </tr>\n",
       "    <tr>\n",
       "      <th>1</th>\n",
       "      <td>1</td>\n",
       "      <td>GDP per capita (current US$)</td>\n",
       "      <td>Canada</td>\n",
       "      <td>CAN</td>\n",
       "      <td>2022</td>\n",
       "      <td>55509.393176</td>\n",
       "    </tr>\n",
       "  </tbody>\n",
       "</table>\n",
       "</div>"
      ],
      "text/plain": [
       "   Unnamed: 0                     indicator country countryiso3code  date  \\\n",
       "0           0  GDP per capita (current US$)  Canada             CAN  2023   \n",
       "1           1  GDP per capita (current US$)  Canada             CAN  2022   \n",
       "\n",
       "          value  \n",
       "0  53431.185706  \n",
       "1  55509.393176  "
      ]
     },
     "execution_count": 3,
     "metadata": {},
     "output_type": "execute_result"
    }
   ],
   "source": [
    "# This line uses the pandas library's 'read_csv' function.\n",
    "# A DataFrame is essentially a Python version of an Excel spreadsheet, a two-dimensional table with rows and columns.\n",
    "import pandas as pd\n",
    "df = pd.read_csv(url)\n",
    "\n",
    "# The 'head(2)' returns the first 2 rows of the DataFrame.\n",
    "df.head(2)"
   ]
  },
  {
   "cell_type": "code",
   "execution_count": 4,
   "metadata": {},
   "outputs": [
    {
     "data": {
      "text/html": [
       "<div>\n",
       "<style scoped>\n",
       "    .dataframe tbody tr th:only-of-type {\n",
       "        vertical-align: middle;\n",
       "    }\n",
       "\n",
       "    .dataframe tbody tr th {\n",
       "        vertical-align: top;\n",
       "    }\n",
       "\n",
       "    .dataframe thead th {\n",
       "        text-align: right;\n",
       "    }\n",
       "</style>\n",
       "<table border=\"1\" class=\"dataframe\">\n",
       "  <thead>\n",
       "    <tr style=\"text-align: right;\">\n",
       "      <th></th>\n",
       "      <th>Unnamed: 0</th>\n",
       "      <th>indicator</th>\n",
       "      <th>country</th>\n",
       "      <th>countryiso3code</th>\n",
       "      <th>date</th>\n",
       "      <th>value</th>\n",
       "    </tr>\n",
       "  </thead>\n",
       "  <tbody>\n",
       "    <tr>\n",
       "      <th>0</th>\n",
       "      <td>0</td>\n",
       "      <td>GDP per capita (current US$)</td>\n",
       "      <td>Canada</td>\n",
       "      <td>CAN</td>\n",
       "      <td>2023</td>\n",
       "      <td>53431.185706</td>\n",
       "    </tr>\n",
       "    <tr>\n",
       "      <th>1</th>\n",
       "      <td>1</td>\n",
       "      <td>GDP per capita (current US$)</td>\n",
       "      <td>Canada</td>\n",
       "      <td>CAN</td>\n",
       "      <td>2022</td>\n",
       "      <td>55509.393176</td>\n",
       "    </tr>\n",
       "    <tr>\n",
       "      <th>2</th>\n",
       "      <td>2</td>\n",
       "      <td>GDP per capita (current US$)</td>\n",
       "      <td>Canada</td>\n",
       "      <td>CAN</td>\n",
       "      <td>2021</td>\n",
       "      <td>52496.844169</td>\n",
       "    </tr>\n",
       "  </tbody>\n",
       "</table>\n",
       "</div>"
      ],
      "text/plain": [
       "   Unnamed: 0                     indicator country countryiso3code  date  \\\n",
       "0           0  GDP per capita (current US$)  Canada             CAN  2023   \n",
       "1           1  GDP per capita (current US$)  Canada             CAN  2022   \n",
       "2           2  GDP per capita (current US$)  Canada             CAN  2021   \n",
       "\n",
       "          value  \n",
       "0  53431.185706  \n",
       "1  55509.393176  \n",
       "2  52496.844169  "
      ]
     },
     "execution_count": 4,
     "metadata": {},
     "output_type": "execute_result"
    }
   ],
   "source": [
    "# This line does the exact same thing as the previous line, but it directly uses the URL string, instead of the variable 'url'.\n",
    "# It reads the World Bank data from the given URL and stores it as a pandas DataFrame named 'df'.\n",
    "df = pd.read_csv(\"https://github.com/Data-Science-Public-Policy/graspp_2025_spring/raw/refs/heads/module_1/data/examples/module_1/world_bank_data.csv\")\n",
    "\n",
    "# The 'head(3)' returns the first 3 rows of the DataFrame.\n",
    "df.head(3)"
   ]
  },
  {
   "cell_type": "markdown",
   "metadata": {},
   "source": [
    "## 1.2 Importing directly from website excel link"
   ]
  },
  {
   "cell_type": "code",
   "execution_count": 5,
   "metadata": {},
   "outputs": [
    {
     "data": {
      "text/html": [
       "<div>\n",
       "<style scoped>\n",
       "    .dataframe tbody tr th:only-of-type {\n",
       "        vertical-align: middle;\n",
       "    }\n",
       "\n",
       "    .dataframe tbody tr th {\n",
       "        vertical-align: top;\n",
       "    }\n",
       "\n",
       "    .dataframe thead tr th {\n",
       "        text-align: left;\n",
       "    }\n",
       "</style>\n",
       "<table border=\"1\" class=\"dataframe\">\n",
       "  <thead>\n",
       "    <tr>\n",
       "      <th></th>\n",
       "      <th>City[a]</th>\n",
       "      <th>Country</th>\n",
       "      <th>UN 2018 population estimates[b]</th>\n",
       "      <th colspan=\"4\" halign=\"left\">City proper[c]</th>\n",
       "      <th colspan=\"3\" halign=\"left\">Urban area[12]</th>\n",
       "      <th colspan=\"3\" halign=\"left\">Metropolitan area[d]</th>\n",
       "    </tr>\n",
       "    <tr>\n",
       "      <th></th>\n",
       "      <th>City[a]</th>\n",
       "      <th>Country</th>\n",
       "      <th>UN 2018 population estimates[b]</th>\n",
       "      <th>Definition</th>\n",
       "      <th>Population</th>\n",
       "      <th>Area (km2)</th>\n",
       "      <th>Density (/km2)</th>\n",
       "      <th>Population</th>\n",
       "      <th>Area (km2)</th>\n",
       "      <th>Density (/km2)</th>\n",
       "      <th>Population</th>\n",
       "      <th>Area (km2)</th>\n",
       "      <th>Density (/km2)</th>\n",
       "    </tr>\n",
       "  </thead>\n",
       "  <tbody>\n",
       "    <tr>\n",
       "      <th>0</th>\n",
       "      <td>Tokyo</td>\n",
       "      <td>Japan</td>\n",
       "      <td>37468000</td>\n",
       "      <td>Metropolis prefecture</td>\n",
       "      <td>13515271</td>\n",
       "      <td>2191</td>\n",
       "      <td>6,169 [13]</td>\n",
       "      <td>37785000</td>\n",
       "      <td>8231</td>\n",
       "      <td>4,591 [e]</td>\n",
       "      <td>37274000</td>\n",
       "      <td>13452</td>\n",
       "      <td>2,771 [14]</td>\n",
       "    </tr>\n",
       "    <tr>\n",
       "      <th>1</th>\n",
       "      <td>Delhi</td>\n",
       "      <td>India</td>\n",
       "      <td>28514000</td>\n",
       "      <td>Municipal corporation</td>\n",
       "      <td>16753235</td>\n",
       "      <td>1484</td>\n",
       "      <td>11,289 [15]</td>\n",
       "      <td>32226000</td>\n",
       "      <td>2344</td>\n",
       "      <td>13,748 [f]</td>\n",
       "      <td>29000000</td>\n",
       "      <td>3483</td>\n",
       "      <td>8,326 [16]</td>\n",
       "    </tr>\n",
       "    <tr>\n",
       "      <th>2</th>\n",
       "      <td>Shanghai</td>\n",
       "      <td>China</td>\n",
       "      <td>25582000</td>\n",
       "      <td>Municipality</td>\n",
       "      <td>24870895</td>\n",
       "      <td>6341</td>\n",
       "      <td>3,922 [17][18]</td>\n",
       "      <td>24073000</td>\n",
       "      <td>4333</td>\n",
       "      <td>5,556 [g]</td>\n",
       "      <td>—</td>\n",
       "      <td>—</td>\n",
       "      <td>—</td>\n",
       "    </tr>\n",
       "    <tr>\n",
       "      <th>3</th>\n",
       "      <td>São Paulo</td>\n",
       "      <td>Brazil</td>\n",
       "      <td>21650000</td>\n",
       "      <td>Municipality</td>\n",
       "      <td>12252023</td>\n",
       "      <td>1521</td>\n",
       "      <td>8,055 [19]</td>\n",
       "      <td>23086000</td>\n",
       "      <td>3649</td>\n",
       "      <td>6,327 [h]</td>\n",
       "      <td>21734682</td>\n",
       "      <td>7947</td>\n",
       "      <td>2,735 [20]</td>\n",
       "    </tr>\n",
       "    <tr>\n",
       "      <th>4</th>\n",
       "      <td>Mexico City</td>\n",
       "      <td>Mexico</td>\n",
       "      <td>21581000</td>\n",
       "      <td>City-state</td>\n",
       "      <td>9209944</td>\n",
       "      <td>1485</td>\n",
       "      <td>6,202 [21]</td>\n",
       "      <td>21804000</td>\n",
       "      <td>2530</td>\n",
       "      <td>8618</td>\n",
       "      <td>21804515</td>\n",
       "      <td>7866</td>\n",
       "      <td>2,772 [22]</td>\n",
       "    </tr>\n",
       "  </tbody>\n",
       "</table>\n",
       "</div>"
      ],
      "text/plain": [
       "       City[a] Country UN 2018 population estimates[b]         City proper[c]  \\\n",
       "       City[a] Country UN 2018 population estimates[b]             Definition   \n",
       "0        Tokyo   Japan                        37468000  Metropolis prefecture   \n",
       "1        Delhi   India                        28514000  Municipal corporation   \n",
       "2     Shanghai   China                        25582000           Municipality   \n",
       "3    São Paulo  Brazil                        21650000           Municipality   \n",
       "4  Mexico City  Mexico                        21581000             City-state   \n",
       "\n",
       "                                        Urban area[12]             \\\n",
       "  Population Area (km2)  Density (/km2)     Population Area (km2)   \n",
       "0   13515271       2191      6,169 [13]       37785000       8231   \n",
       "1   16753235       1484     11,289 [15]       32226000       2344   \n",
       "2   24870895       6341  3,922 [17][18]       24073000       4333   \n",
       "3   12252023       1521      8,055 [19]       23086000       3649   \n",
       "4    9209944       1485      6,202 [21]       21804000       2530   \n",
       "\n",
       "                 Metropolitan area[d]                            \n",
       "  Density (/km2)           Population Area (km2) Density (/km2)  \n",
       "0      4,591 [e]             37274000      13452     2,771 [14]  \n",
       "1     13,748 [f]             29000000       3483     8,326 [16]  \n",
       "2      5,556 [g]                    —          —              —  \n",
       "3      6,327 [h]             21734682       7947     2,735 [20]  \n",
       "4           8618             21804515       7866     2,772 [22]  "
      ]
     },
     "execution_count": 5,
     "metadata": {},
     "output_type": "execute_result"
    }
   ],
   "source": [
    "url = 'https://en.wikipedia.org/wiki/List_of_largest_cities'\n",
    "df = pd.read_html(url)\n",
    "df[1].head(5)"
   ]
  },
  {
   "cell_type": "markdown",
   "metadata": {},
   "source": [
    "## 1.3 Importing data via an API"
   ]
  },
  {
   "cell_type": "markdown",
   "metadata": {},
   "source": [
    "### 1.3.A Introducing functions"
   ]
  },
  {
   "cell_type": "code",
   "execution_count": 6,
   "metadata": {},
   "outputs": [],
   "source": [
    "# We already used functions!\n",
    "\n",
    "# function to read csvs from the pandas library\n",
    "# pd.read_csv()\n",
    "# function to read html from the pandas library\n",
    "# pd.read_html()"
   ]
  },
  {
   "cell_type": "markdown",
   "metadata": {},
   "source": [
    "#### 1.3.A.1 Basic function"
   ]
  },
  {
   "cell_type": "code",
   "execution_count": 7,
   "metadata": {},
   "outputs": [],
   "source": [
    "# Now we make our own\n",
    "def num_print(a):\n",
    "    return a"
   ]
  },
  {
   "cell_type": "code",
   "execution_count": 8,
   "metadata": {},
   "outputs": [
    {
     "data": {
      "text/plain": [
       "8"
      ]
     },
     "execution_count": 8,
     "metadata": {},
     "output_type": "execute_result"
    }
   ],
   "source": [
    "num_print(8)"
   ]
  },
  {
   "cell_type": "code",
   "execution_count": 9,
   "metadata": {},
   "outputs": [
    {
     "data": {
      "text/plain": [
       "7"
      ]
     },
     "execution_count": 9,
     "metadata": {},
     "output_type": "execute_result"
    }
   ],
   "source": [
    "num_print(7)"
   ]
  },
  {
   "cell_type": "markdown",
   "metadata": {},
   "source": [
    "#### 1.3.A.2 Multiple arguments"
   ]
  },
  {
   "cell_type": "code",
   "execution_count": 10,
   "metadata": {},
   "outputs": [],
   "source": [
    "def add_func(a,b,c):\n",
    "    print('This function adds')\n",
    "    final = a+b+c\n",
    "    return final"
   ]
  },
  {
   "cell_type": "code",
   "execution_count": 11,
   "metadata": {},
   "outputs": [
    {
     "name": "stdout",
     "output_type": "stream",
     "text": [
      "This function adds\n"
     ]
    },
    {
     "data": {
      "text/plain": [
       "40"
      ]
     },
     "execution_count": 11,
     "metadata": {},
     "output_type": "execute_result"
    }
   ],
   "source": [
    "add_func(10,20,10)"
   ]
  },
  {
   "cell_type": "markdown",
   "metadata": {},
   "source": [
    "### 1.3.1 Function to download data from the world bank WDI"
   ]
  },
  {
   "cell_type": "code",
   "execution_count": 12,
   "metadata": {},
   "outputs": [],
   "source": [
    "import requests\n",
    "import pandas as pd\n",
    "\n",
    "def download_worldbank(indicator, countries, date_start, date_end):\n",
    "    url_base = 'http://api.worldbank.org/v2/'  # Base URL for the World Bank API\n",
    "    country_codes = ';'.join(countries)  # Combine country codes into a string\n",
    "    url = url_base + f'country/{country_codes}/indicator/{indicator}?date={date_start}:{date_end}&per_page=30000' #create the url with start and end date.\n",
    "    url = url_base + f'country/{country_codes}/indicator/{indicator}?per_page=30000' # This line overrides the previous one. It will ignore start/end date.\n",
    "\n",
    "    response = requests.get(url)  # Download data from the URL\n",
    "    df = pd.read_xml(response.content)  # Convert the downloaded data to a table\n",
    "    return df  # Return the table"
   ]
  },
  {
   "cell_type": "code",
   "execution_count": 13,
   "metadata": {},
   "outputs": [
    {
     "data": {
      "text/html": [
       "<div>\n",
       "<style scoped>\n",
       "    .dataframe tbody tr th:only-of-type {\n",
       "        vertical-align: middle;\n",
       "    }\n",
       "\n",
       "    .dataframe tbody tr th {\n",
       "        vertical-align: top;\n",
       "    }\n",
       "\n",
       "    .dataframe thead th {\n",
       "        text-align: right;\n",
       "    }\n",
       "</style>\n",
       "<table border=\"1\" class=\"dataframe\">\n",
       "  <thead>\n",
       "    <tr style=\"text-align: right;\">\n",
       "      <th></th>\n",
       "      <th>indicator</th>\n",
       "      <th>country</th>\n",
       "      <th>countryiso3code</th>\n",
       "      <th>date</th>\n",
       "      <th>value</th>\n",
       "      <th>unit</th>\n",
       "      <th>obs_status</th>\n",
       "      <th>decimal</th>\n",
       "    </tr>\n",
       "  </thead>\n",
       "  <tbody>\n",
       "    <tr>\n",
       "      <th>0</th>\n",
       "      <td>GDP per capita (current US$)</td>\n",
       "      <td>Canada</td>\n",
       "      <td>CAN</td>\n",
       "      <td>2023</td>\n",
       "      <td>53431.185706</td>\n",
       "      <td>NaN</td>\n",
       "      <td>NaN</td>\n",
       "      <td>1</td>\n",
       "    </tr>\n",
       "    <tr>\n",
       "      <th>1</th>\n",
       "      <td>GDP per capita (current US$)</td>\n",
       "      <td>Canada</td>\n",
       "      <td>CAN</td>\n",
       "      <td>2022</td>\n",
       "      <td>55509.393176</td>\n",
       "      <td>NaN</td>\n",
       "      <td>NaN</td>\n",
       "      <td>1</td>\n",
       "    </tr>\n",
       "  </tbody>\n",
       "</table>\n",
       "</div>"
      ],
      "text/plain": [
       "                      indicator country countryiso3code  date         value  \\\n",
       "0  GDP per capita (current US$)  Canada             CAN  2023  53431.185706   \n",
       "1  GDP per capita (current US$)  Canada             CAN  2022  55509.393176   \n",
       "\n",
       "   unit  obs_status  decimal  \n",
       "0   NaN         NaN        1  \n",
       "1   NaN         NaN        1  "
      ]
     },
     "execution_count": 13,
     "metadata": {},
     "output_type": "execute_result"
    }
   ],
   "source": [
    "# Example 1\n",
    "data = download_worldbank(\n",
    "    indicator = 'NY.GDP.PCAP.CD' , \n",
    "    countries = ['US', 'CA', 'MX', 'JP'],  \n",
    "    date_start = '2021', \n",
    "    date_end = '2023'\n",
    ")\n",
    "data.head(2)"
   ]
  },
  {
   "cell_type": "code",
   "execution_count": 14,
   "metadata": {},
   "outputs": [
    {
     "data": {
      "text/html": [
       "<div>\n",
       "<style scoped>\n",
       "    .dataframe tbody tr th:only-of-type {\n",
       "        vertical-align: middle;\n",
       "    }\n",
       "\n",
       "    .dataframe tbody tr th {\n",
       "        vertical-align: top;\n",
       "    }\n",
       "\n",
       "    .dataframe thead th {\n",
       "        text-align: right;\n",
       "    }\n",
       "</style>\n",
       "<table border=\"1\" class=\"dataframe\">\n",
       "  <thead>\n",
       "    <tr style=\"text-align: right;\">\n",
       "      <th></th>\n",
       "      <th>indicator</th>\n",
       "      <th>country</th>\n",
       "      <th>countryiso3code</th>\n",
       "      <th>date</th>\n",
       "      <th>value</th>\n",
       "      <th>unit</th>\n",
       "      <th>obs_status</th>\n",
       "      <th>decimal</th>\n",
       "    </tr>\n",
       "  </thead>\n",
       "  <tbody>\n",
       "    <tr>\n",
       "      <th>0</th>\n",
       "      <td>Population, total</td>\n",
       "      <td>Germany</td>\n",
       "      <td>DEU</td>\n",
       "      <td>2023</td>\n",
       "      <td>83280000</td>\n",
       "      <td>NaN</td>\n",
       "      <td>NaN</td>\n",
       "      <td>0</td>\n",
       "    </tr>\n",
       "    <tr>\n",
       "      <th>1</th>\n",
       "      <td>Population, total</td>\n",
       "      <td>Germany</td>\n",
       "      <td>DEU</td>\n",
       "      <td>2022</td>\n",
       "      <td>83797985</td>\n",
       "      <td>NaN</td>\n",
       "      <td>NaN</td>\n",
       "      <td>0</td>\n",
       "    </tr>\n",
       "  </tbody>\n",
       "</table>\n",
       "</div>"
      ],
      "text/plain": [
       "           indicator  country countryiso3code  date     value  unit  \\\n",
       "0  Population, total  Germany             DEU  2023  83280000   NaN   \n",
       "1  Population, total  Germany             DEU  2022  83797985   NaN   \n",
       "\n",
       "   obs_status  decimal  \n",
       "0         NaN        0  \n",
       "1         NaN        0  "
      ]
     },
     "execution_count": 14,
     "metadata": {},
     "output_type": "execute_result"
    }
   ],
   "source": [
    "# Example 2: Using saved objects\n",
    "indicator_code = 'SP.POP.TOTL'  # Example: Total population\n",
    "country_list = ['FR', 'DE', 'IT'] # France, Germany, Italy\n",
    "start_year = '2020'\n",
    "end_year = '2022'\n",
    "\n",
    "data2 = download_worldbank(\n",
    "    indicator=indicator_code,\n",
    "    countries=country_list,\n",
    "    date_start=start_year,\n",
    "    date_end=end_year\n",
    ")\n",
    "data2.head(2)"
   ]
  },
  {
   "cell_type": "markdown",
   "metadata": {},
   "source": [
    "# 2. Where is this notebook? Where is my Data? \n",
    "\n",
    "\n",
    "### IMPORTANT: If you are running on google colab you need to drag the csv file into your workspace\n",
    "###"
   ]
  },
  {
   "cell_type": "markdown",
   "metadata": {},
   "source": [
    "## 2.1 `File path`: fancy way to say the current folder you are working from"
   ]
  },
  {
   "cell_type": "markdown",
   "metadata": {},
   "source": [
    "### 2.1.A Current folder"
   ]
  },
  {
   "cell_type": "code",
   "execution_count": 15,
   "metadata": {},
   "outputs": [
    {
     "data": {
      "text/plain": [
       "'/Users/corybaird/Desktop/graspp_2025_spring/notebooks/module_1/week_1'"
      ]
     },
     "execution_count": 15,
     "metadata": {},
     "output_type": "execute_result"
    }
   ],
   "source": [
    "# Current path\n",
    "import os\n",
    "# os.getcwd(): Shows current folder this notebook is in\n",
    "os.getcwd()"
   ]
  },
  {
   "cell_type": "code",
   "execution_count": 16,
   "metadata": {},
   "outputs": [
    {
     "data": {
      "text/plain": [
       "['.DS_Store',\n",
       " 'requirements.txt',\n",
       " 'uv.lock',\n",
       " 'environment.yml',\n",
       " 'pyproject.toml',\n",
       " 'README.md',\n",
       " '.gitignore',\n",
       " '.venv',\n",
       " '.git',\n",
       " 'data',\n",
       " 'notebooks',\n",
       " 'src']"
      ]
     },
     "execution_count": 16,
     "metadata": {},
     "output_type": "execute_result"
    }
   ],
   "source": [
    "# This shows the files in the folder three folders above the current folder\n",
    "os.listdir(\"../../..\")"
   ]
  },
  {
   "cell_type": "code",
   "execution_count": 17,
   "metadata": {},
   "outputs": [
    {
     "data": {
      "text/plain": [
       "['world_bank_data.csv']"
      ]
     },
     "execution_count": 17,
     "metadata": {},
     "output_type": "execute_result"
    }
   ],
   "source": [
    "# This shows the files in the data/examples/module_1 folder\n",
    "os.listdir(\"../../../data/examples/module_1\")"
   ]
  },
  {
   "cell_type": "markdown",
   "metadata": {},
   "source": [
    "### 2.1.1 Saving data: In this case words (a.k.a. a string)"
   ]
  },
  {
   "cell_type": "code",
   "execution_count": 18,
   "metadata": {},
   "outputs": [
    {
     "data": {
      "text/plain": [
       "'../../../data/examples/module_1/'"
      ]
     },
     "execution_count": 18,
     "metadata": {},
     "output_type": "execute_result"
    }
   ],
   "source": [
    "# In python if you write a name (without spaces) and you write something on the right hand side this saves data/information\n",
    "file_location = \"../../../data/examples/module_1/\"\n",
    "file_location"
   ]
  },
  {
   "cell_type": "markdown",
   "metadata": {},
   "source": [
    "## 2.2 Importing data (csv, excel, stata) to the notebook"
   ]
  },
  {
   "cell_type": "code",
   "execution_count": 19,
   "metadata": {},
   "outputs": [
    {
     "data": {
      "text/plain": [
       "['world_bank_data.csv']"
      ]
     },
     "execution_count": 19,
     "metadata": {},
     "output_type": "execute_result"
    }
   ],
   "source": [
    "os.listdir(file_location)"
   ]
  },
  {
   "cell_type": "markdown",
   "metadata": {},
   "source": [
    "### 2.2.1 Import"
   ]
  },
  {
   "cell_type": "code",
   "execution_count": 20,
   "metadata": {},
   "outputs": [
    {
     "data": {
      "text/html": [
       "<div>\n",
       "<style scoped>\n",
       "    .dataframe tbody tr th:only-of-type {\n",
       "        vertical-align: middle;\n",
       "    }\n",
       "\n",
       "    .dataframe tbody tr th {\n",
       "        vertical-align: top;\n",
       "    }\n",
       "\n",
       "    .dataframe thead th {\n",
       "        text-align: right;\n",
       "    }\n",
       "</style>\n",
       "<table border=\"1\" class=\"dataframe\">\n",
       "  <thead>\n",
       "    <tr style=\"text-align: right;\">\n",
       "      <th></th>\n",
       "      <th>Unnamed: 0</th>\n",
       "      <th>indicator</th>\n",
       "      <th>country</th>\n",
       "      <th>countryiso3code</th>\n",
       "      <th>date</th>\n",
       "      <th>value</th>\n",
       "    </tr>\n",
       "  </thead>\n",
       "  <tbody>\n",
       "    <tr>\n",
       "      <th>0</th>\n",
       "      <td>0</td>\n",
       "      <td>GDP per capita (current US$)</td>\n",
       "      <td>Canada</td>\n",
       "      <td>CAN</td>\n",
       "      <td>2023</td>\n",
       "      <td>53431.185706</td>\n",
       "    </tr>\n",
       "    <tr>\n",
       "      <th>1</th>\n",
       "      <td>1</td>\n",
       "      <td>GDP per capita (current US$)</td>\n",
       "      <td>Canada</td>\n",
       "      <td>CAN</td>\n",
       "      <td>2022</td>\n",
       "      <td>55509.393176</td>\n",
       "    </tr>\n",
       "    <tr>\n",
       "      <th>2</th>\n",
       "      <td>2</td>\n",
       "      <td>GDP per capita (current US$)</td>\n",
       "      <td>Canada</td>\n",
       "      <td>CAN</td>\n",
       "      <td>2021</td>\n",
       "      <td>52496.844169</td>\n",
       "    </tr>\n",
       "    <tr>\n",
       "      <th>3</th>\n",
       "      <td>3</td>\n",
       "      <td>GDP per capita (current US$)</td>\n",
       "      <td>Japan</td>\n",
       "      <td>JPN</td>\n",
       "      <td>2023</td>\n",
       "      <td>33766.526825</td>\n",
       "    </tr>\n",
       "    <tr>\n",
       "      <th>4</th>\n",
       "      <td>4</td>\n",
       "      <td>GDP per capita (current US$)</td>\n",
       "      <td>Japan</td>\n",
       "      <td>JPN</td>\n",
       "      <td>2022</td>\n",
       "      <td>34017.271808</td>\n",
       "    </tr>\n",
       "    <tr>\n",
       "      <th>5</th>\n",
       "      <td>5</td>\n",
       "      <td>GDP per capita (current US$)</td>\n",
       "      <td>Japan</td>\n",
       "      <td>JPN</td>\n",
       "      <td>2021</td>\n",
       "      <td>40058.537328</td>\n",
       "    </tr>\n",
       "    <tr>\n",
       "      <th>6</th>\n",
       "      <td>6</td>\n",
       "      <td>GDP per capita (current US$)</td>\n",
       "      <td>Mexico</td>\n",
       "      <td>MEX</td>\n",
       "      <td>2023</td>\n",
       "      <td>13790.024343</td>\n",
       "    </tr>\n",
       "    <tr>\n",
       "      <th>7</th>\n",
       "      <td>7</td>\n",
       "      <td>GDP per capita (current US$)</td>\n",
       "      <td>Mexico</td>\n",
       "      <td>MEX</td>\n",
       "      <td>2022</td>\n",
       "      <td>11385.407076</td>\n",
       "    </tr>\n",
       "    <tr>\n",
       "      <th>8</th>\n",
       "      <td>8</td>\n",
       "      <td>GDP per capita (current US$)</td>\n",
       "      <td>Mexico</td>\n",
       "      <td>MEX</td>\n",
       "      <td>2021</td>\n",
       "      <td>10314.050674</td>\n",
       "    </tr>\n",
       "    <tr>\n",
       "      <th>9</th>\n",
       "      <td>9</td>\n",
       "      <td>GDP per capita (current US$)</td>\n",
       "      <td>United States</td>\n",
       "      <td>USA</td>\n",
       "      <td>2023</td>\n",
       "      <td>82769.412211</td>\n",
       "    </tr>\n",
       "    <tr>\n",
       "      <th>10</th>\n",
       "      <td>10</td>\n",
       "      <td>GDP per capita (current US$)</td>\n",
       "      <td>United States</td>\n",
       "      <td>USA</td>\n",
       "      <td>2022</td>\n",
       "      <td>78035.175360</td>\n",
       "    </tr>\n",
       "    <tr>\n",
       "      <th>11</th>\n",
       "      <td>11</td>\n",
       "      <td>GDP per capita (current US$)</td>\n",
       "      <td>United States</td>\n",
       "      <td>USA</td>\n",
       "      <td>2021</td>\n",
       "      <td>71318.307359</td>\n",
       "    </tr>\n",
       "  </tbody>\n",
       "</table>\n",
       "</div>"
      ],
      "text/plain": [
       "    Unnamed: 0                     indicator        country countryiso3code  \\\n",
       "0            0  GDP per capita (current US$)         Canada             CAN   \n",
       "1            1  GDP per capita (current US$)         Canada             CAN   \n",
       "2            2  GDP per capita (current US$)         Canada             CAN   \n",
       "3            3  GDP per capita (current US$)          Japan             JPN   \n",
       "4            4  GDP per capita (current US$)          Japan             JPN   \n",
       "5            5  GDP per capita (current US$)          Japan             JPN   \n",
       "6            6  GDP per capita (current US$)         Mexico             MEX   \n",
       "7            7  GDP per capita (current US$)         Mexico             MEX   \n",
       "8            8  GDP per capita (current US$)         Mexico             MEX   \n",
       "9            9  GDP per capita (current US$)  United States             USA   \n",
       "10          10  GDP per capita (current US$)  United States             USA   \n",
       "11          11  GDP per capita (current US$)  United States             USA   \n",
       "\n",
       "    date         value  \n",
       "0   2023  53431.185706  \n",
       "1   2022  55509.393176  \n",
       "2   2021  52496.844169  \n",
       "3   2023  33766.526825  \n",
       "4   2022  34017.271808  \n",
       "5   2021  40058.537328  \n",
       "6   2023  13790.024343  \n",
       "7   2022  11385.407076  \n",
       "8   2021  10314.050674  \n",
       "9   2023  82769.412211  \n",
       "10  2022  78035.175360  \n",
       "11  2021  71318.307359  "
      ]
     },
     "execution_count": 20,
     "metadata": {},
     "output_type": "execute_result"
    }
   ],
   "source": [
    "import pandas as pd\n",
    "pd.read_csv(\"../../../data/examples/module_1/world_bank_data.csv\")\n",
    "pd.read_csv(file_location + \"world_bank_data.csv\") #You can combine words with a +"
   ]
  },
  {
   "cell_type": "markdown",
   "metadata": {},
   "source": [
    "### 2.2.2 Import and save to notebook (same concept as 1.1.1)"
   ]
  },
  {
   "cell_type": "code",
   "execution_count": 21,
   "metadata": {},
   "outputs": [
    {
     "data": {
      "text/html": [
       "<div>\n",
       "<style scoped>\n",
       "    .dataframe tbody tr th:only-of-type {\n",
       "        vertical-align: middle;\n",
       "    }\n",
       "\n",
       "    .dataframe tbody tr th {\n",
       "        vertical-align: top;\n",
       "    }\n",
       "\n",
       "    .dataframe thead th {\n",
       "        text-align: right;\n",
       "    }\n",
       "</style>\n",
       "<table border=\"1\" class=\"dataframe\">\n",
       "  <thead>\n",
       "    <tr style=\"text-align: right;\">\n",
       "      <th></th>\n",
       "      <th>Unnamed: 0</th>\n",
       "      <th>indicator</th>\n",
       "      <th>country</th>\n",
       "      <th>countryiso3code</th>\n",
       "      <th>date</th>\n",
       "      <th>value</th>\n",
       "    </tr>\n",
       "  </thead>\n",
       "  <tbody>\n",
       "    <tr>\n",
       "      <th>0</th>\n",
       "      <td>0</td>\n",
       "      <td>GDP per capita (current US$)</td>\n",
       "      <td>Canada</td>\n",
       "      <td>CAN</td>\n",
       "      <td>2023</td>\n",
       "      <td>53431.185706</td>\n",
       "    </tr>\n",
       "    <tr>\n",
       "      <th>1</th>\n",
       "      <td>1</td>\n",
       "      <td>GDP per capita (current US$)</td>\n",
       "      <td>Canada</td>\n",
       "      <td>CAN</td>\n",
       "      <td>2022</td>\n",
       "      <td>55509.393176</td>\n",
       "    </tr>\n",
       "    <tr>\n",
       "      <th>2</th>\n",
       "      <td>2</td>\n",
       "      <td>GDP per capita (current US$)</td>\n",
       "      <td>Canada</td>\n",
       "      <td>CAN</td>\n",
       "      <td>2021</td>\n",
       "      <td>52496.844169</td>\n",
       "    </tr>\n",
       "    <tr>\n",
       "      <th>3</th>\n",
       "      <td>3</td>\n",
       "      <td>GDP per capita (current US$)</td>\n",
       "      <td>Japan</td>\n",
       "      <td>JPN</td>\n",
       "      <td>2023</td>\n",
       "      <td>33766.526825</td>\n",
       "    </tr>\n",
       "    <tr>\n",
       "      <th>4</th>\n",
       "      <td>4</td>\n",
       "      <td>GDP per capita (current US$)</td>\n",
       "      <td>Japan</td>\n",
       "      <td>JPN</td>\n",
       "      <td>2022</td>\n",
       "      <td>34017.271808</td>\n",
       "    </tr>\n",
       "    <tr>\n",
       "      <th>5</th>\n",
       "      <td>5</td>\n",
       "      <td>GDP per capita (current US$)</td>\n",
       "      <td>Japan</td>\n",
       "      <td>JPN</td>\n",
       "      <td>2021</td>\n",
       "      <td>40058.537328</td>\n",
       "    </tr>\n",
       "    <tr>\n",
       "      <th>6</th>\n",
       "      <td>6</td>\n",
       "      <td>GDP per capita (current US$)</td>\n",
       "      <td>Mexico</td>\n",
       "      <td>MEX</td>\n",
       "      <td>2023</td>\n",
       "      <td>13790.024343</td>\n",
       "    </tr>\n",
       "    <tr>\n",
       "      <th>7</th>\n",
       "      <td>7</td>\n",
       "      <td>GDP per capita (current US$)</td>\n",
       "      <td>Mexico</td>\n",
       "      <td>MEX</td>\n",
       "      <td>2022</td>\n",
       "      <td>11385.407076</td>\n",
       "    </tr>\n",
       "    <tr>\n",
       "      <th>8</th>\n",
       "      <td>8</td>\n",
       "      <td>GDP per capita (current US$)</td>\n",
       "      <td>Mexico</td>\n",
       "      <td>MEX</td>\n",
       "      <td>2021</td>\n",
       "      <td>10314.050674</td>\n",
       "    </tr>\n",
       "    <tr>\n",
       "      <th>9</th>\n",
       "      <td>9</td>\n",
       "      <td>GDP per capita (current US$)</td>\n",
       "      <td>United States</td>\n",
       "      <td>USA</td>\n",
       "      <td>2023</td>\n",
       "      <td>82769.412211</td>\n",
       "    </tr>\n",
       "    <tr>\n",
       "      <th>10</th>\n",
       "      <td>10</td>\n",
       "      <td>GDP per capita (current US$)</td>\n",
       "      <td>United States</td>\n",
       "      <td>USA</td>\n",
       "      <td>2022</td>\n",
       "      <td>78035.175360</td>\n",
       "    </tr>\n",
       "    <tr>\n",
       "      <th>11</th>\n",
       "      <td>11</td>\n",
       "      <td>GDP per capita (current US$)</td>\n",
       "      <td>United States</td>\n",
       "      <td>USA</td>\n",
       "      <td>2021</td>\n",
       "      <td>71318.307359</td>\n",
       "    </tr>\n",
       "  </tbody>\n",
       "</table>\n",
       "</div>"
      ],
      "text/plain": [
       "    Unnamed: 0                     indicator        country countryiso3code  \\\n",
       "0            0  GDP per capita (current US$)         Canada             CAN   \n",
       "1            1  GDP per capita (current US$)         Canada             CAN   \n",
       "2            2  GDP per capita (current US$)         Canada             CAN   \n",
       "3            3  GDP per capita (current US$)          Japan             JPN   \n",
       "4            4  GDP per capita (current US$)          Japan             JPN   \n",
       "5            5  GDP per capita (current US$)          Japan             JPN   \n",
       "6            6  GDP per capita (current US$)         Mexico             MEX   \n",
       "7            7  GDP per capita (current US$)         Mexico             MEX   \n",
       "8            8  GDP per capita (current US$)         Mexico             MEX   \n",
       "9            9  GDP per capita (current US$)  United States             USA   \n",
       "10          10  GDP per capita (current US$)  United States             USA   \n",
       "11          11  GDP per capita (current US$)  United States             USA   \n",
       "\n",
       "    date         value  \n",
       "0   2023  53431.185706  \n",
       "1   2022  55509.393176  \n",
       "2   2021  52496.844169  \n",
       "3   2023  33766.526825  \n",
       "4   2022  34017.271808  \n",
       "5   2021  40058.537328  \n",
       "6   2023  13790.024343  \n",
       "7   2022  11385.407076  \n",
       "8   2021  10314.050674  \n",
       "9   2023  82769.412211  \n",
       "10  2022  78035.175360  \n",
       "11  2021  71318.307359  "
      ]
     },
     "execution_count": 21,
     "metadata": {},
     "output_type": "execute_result"
    }
   ],
   "source": [
    "# In python if you write a name (without spaces) and you write something on the right hand side this saves data/information\n",
    "df = pd.read_csv(file_location + \"world_bank_data.csv\") #You can combine words with a +\n",
    "df"
   ]
  },
  {
   "cell_type": "markdown",
   "metadata": {
    "id": "lZJSocNoccBa"
   },
   "source": [
    "# A. The\" boring stuff: explaining what we just did "
   ]
  },
  {
   "cell_type": "markdown",
   "metadata": {},
   "source": [
    "## A. Note for R-users\n",
    "\n",
    "- Python is in many ways similiar to R\n",
    "\n",
    "- Comment code: #\n",
    "- Some functions are exactly the same: print()\n",
    "- Saving an object requires you to write a name and set it equal to whatever object you are interested in saving\n",
    "- You must run the code in the correct order\n",
    "- We use libraries!"
   ]
  },
  {
   "cell_type": "code",
   "execution_count": 22,
   "metadata": {},
   "outputs": [],
   "source": [
    "# REMEMBER THIS IS WHAT WE USED BEFORE\n",
    "# This line saves the web address (URL) of the World Bank data file as text in a variable named 'url'.\n",
    "url = \"https://github.com/Data-Science-Public-Policy/graspp_2025_spring/raw/refs/heads/module_1/data/examples/module_1/world_bank_data.csv\""
   ]
  },
  {
   "cell_type": "code",
   "execution_count": 23,
   "metadata": {},
   "outputs": [
    {
     "name": "stdout",
     "output_type": "stream",
     "text": [
      "This is a print function\n"
     ]
    }
   ],
   "source": [
    "# This is a comment\n",
    "print('This is a print function')"
   ]
  },
  {
   "cell_type": "code",
   "execution_count": 24,
   "metadata": {},
   "outputs": [
    {
     "name": "stdout",
     "output_type": "stream",
     "text": [
      "hello world\n"
     ]
    }
   ],
   "source": [
    "saved_object = 'hello world'\n",
    "print(saved_object)"
   ]
  },
  {
   "cell_type": "code",
   "execution_count": 25,
   "metadata": {},
   "outputs": [
    {
     "data": {
      "text/plain": [
       "'GRASPP IS COOL'"
      ]
     },
     "execution_count": 25,
     "metadata": {},
     "output_type": "execute_result"
    }
   ],
   "source": [
    "saved_object = 'GRASPP IS COOL'\n",
    "saved_object"
   ]
  },
  {
   "cell_type": "markdown",
   "metadata": {
    "id": "ZiqC4IL-ktTC"
   },
   "source": [
    "## A.1 Strings\n",
    "\n",
    "- Think of it as a piece data that has quotes\n",
    "- R-users: This is the same as in R!\n"
   ]
  },
  {
   "cell_type": "code",
   "execution_count": 26,
   "metadata": {
    "colab": {
     "base_uri": "https://localhost:8080/",
     "height": 35
    },
    "id": "UAf0XPb-iUM2",
    "outputId": "344dd3b2-5033-45e0-9b97-68657c62cea2"
   },
   "outputs": [
    {
     "name": "stdout",
     "output_type": "stream",
     "text": [
      "Python is cool\n"
     ]
    }
   ],
   "source": [
    "my_str = 'Python is cool'\n",
    "print(my_str)"
   ]
  },
  {
   "cell_type": "markdown",
   "metadata": {},
   "source": [
    "### A.1.1 This function can tell us what type our object is"
   ]
  },
  {
   "cell_type": "code",
   "execution_count": 27,
   "metadata": {
    "colab": {
     "base_uri": "https://localhost:8080/"
    },
    "id": "B3s9suIHk8D2",
    "outputId": "3bc4b241-ca00-4917-a249-ded3b5919727"
   },
   "outputs": [
    {
     "data": {
      "text/plain": [
       "str"
      ]
     },
     "execution_count": 27,
     "metadata": {},
     "output_type": "execute_result"
    }
   ],
   "source": [
    "type(my_str)"
   ]
  },
  {
   "cell_type": "markdown",
   "metadata": {},
   "source": [
    "### A.1.2 Overwriting"
   ]
  },
  {
   "cell_type": "code",
   "execution_count": 28,
   "metadata": {},
   "outputs": [
    {
     "data": {
      "text/plain": [
       "'Python is NOT cool'"
      ]
     },
     "execution_count": 28,
     "metadata": {},
     "output_type": "execute_result"
    }
   ],
   "source": [
    "my_str = 'Python is NOT cool'\n",
    "my_str"
   ]
  },
  {
   "cell_type": "markdown",
   "metadata": {},
   "source": [
    "## A.2 Integers/Float"
   ]
  },
  {
   "cell_type": "code",
   "execution_count": 29,
   "metadata": {},
   "outputs": [
    {
     "data": {
      "text/plain": [
       "int"
      ]
     },
     "execution_count": 29,
     "metadata": {},
     "output_type": "execute_result"
    }
   ],
   "source": [
    "my_num = 100\n",
    "type(my_num)"
   ]
  },
  {
   "cell_type": "code",
   "execution_count": 30,
   "metadata": {},
   "outputs": [
    {
     "data": {
      "text/plain": [
       "float"
      ]
     },
     "execution_count": 30,
     "metadata": {},
     "output_type": "execute_result"
    }
   ],
   "source": [
    "my_num = 100.9483859390942949\n",
    "type(my_num)"
   ]
  },
  {
   "cell_type": "markdown",
   "metadata": {
    "id": "q1oDWOVLjx1b"
   },
   "source": [
    "## A.2 Lists\n",
    "\n",
    "- Lists can be made up of strings or numbers\n",
    "- Spacing is not necessarily important!"
   ]
  },
  {
   "cell_type": "code",
   "execution_count": 31,
   "metadata": {},
   "outputs": [
    {
     "data": {
      "text/html": [
       "<div>\n",
       "<style scoped>\n",
       "    .dataframe tbody tr th:only-of-type {\n",
       "        vertical-align: middle;\n",
       "    }\n",
       "\n",
       "    .dataframe tbody tr th {\n",
       "        vertical-align: top;\n",
       "    }\n",
       "\n",
       "    .dataframe thead th {\n",
       "        text-align: right;\n",
       "    }\n",
       "</style>\n",
       "<table border=\"1\" class=\"dataframe\">\n",
       "  <thead>\n",
       "    <tr style=\"text-align: right;\">\n",
       "      <th></th>\n",
       "      <th>indicator</th>\n",
       "      <th>country</th>\n",
       "      <th>countryiso3code</th>\n",
       "      <th>date</th>\n",
       "      <th>value</th>\n",
       "      <th>unit</th>\n",
       "      <th>obs_status</th>\n",
       "      <th>decimal</th>\n",
       "    </tr>\n",
       "  </thead>\n",
       "  <tbody>\n",
       "    <tr>\n",
       "      <th>0</th>\n",
       "      <td>Population, total</td>\n",
       "      <td>Germany</td>\n",
       "      <td>DEU</td>\n",
       "      <td>2023</td>\n",
       "      <td>83280000</td>\n",
       "      <td>NaN</td>\n",
       "      <td>NaN</td>\n",
       "      <td>0</td>\n",
       "    </tr>\n",
       "    <tr>\n",
       "      <th>1</th>\n",
       "      <td>Population, total</td>\n",
       "      <td>Germany</td>\n",
       "      <td>DEU</td>\n",
       "      <td>2022</td>\n",
       "      <td>83797985</td>\n",
       "      <td>NaN</td>\n",
       "      <td>NaN</td>\n",
       "      <td>0</td>\n",
       "    </tr>\n",
       "  </tbody>\n",
       "</table>\n",
       "</div>"
      ],
      "text/plain": [
       "           indicator  country countryiso3code  date     value  unit  \\\n",
       "0  Population, total  Germany             DEU  2023  83280000   NaN   \n",
       "1  Population, total  Germany             DEU  2022  83797985   NaN   \n",
       "\n",
       "   obs_status  decimal  \n",
       "0         NaN        0  \n",
       "1         NaN        0  "
      ]
     },
     "execution_count": 31,
     "metadata": {},
     "output_type": "execute_result"
    }
   ],
   "source": [
    "# REMEMBER WE USED LISTS BEFORE\n",
    "# Example 2: Using saved objects\n",
    "indicator_code = 'SP.POP.TOTL'  # Example: Total population\n",
    "country_list = ['FR', 'DE', 'IT'] # France, Germany, Italy\n",
    "start_year = '2020'\n",
    "end_year = '2022'\n",
    "\n",
    "data2 = download_worldbank(\n",
    "    indicator=indicator_code,\n",
    "    countries=country_list,\n",
    "    date_start=start_year,\n",
    "    date_end=end_year\n",
    ")\n",
    "data2.head(2)"
   ]
  },
  {
   "cell_type": "code",
   "execution_count": 32,
   "metadata": {
    "colab": {
     "base_uri": "https://localhost:8080/"
    },
    "id": "7pTxflLyjlrM",
    "outputId": "7f589893-4a78-4f05-8328-ae7ec2c2dd8c"
   },
   "outputs": [
    {
     "data": {
      "text/plain": [
       "['Python', 'R', 'Stata', 'Excel']"
      ]
     },
     "execution_count": 32,
     "metadata": {},
     "output_type": "execute_result"
    }
   ],
   "source": [
    "my_list = ['Python', 'R', 'Stata', 'Excel']\n",
    "\n",
    "my_list"
   ]
  },
  {
   "cell_type": "code",
   "execution_count": 33,
   "metadata": {
    "colab": {
     "base_uri": "https://localhost:8080/"
    },
    "id": "oguFCNv9jqeo",
    "outputId": "3667d2e4-97ad-4c96-b9fc-73d3e6e7dc9a"
   },
   "outputs": [
    {
     "data": {
      "text/plain": [
       "list"
      ]
     },
     "execution_count": 33,
     "metadata": {},
     "output_type": "execute_result"
    }
   ],
   "source": [
    "my_list = [3, \n",
    "           5,\n",
    "           9,\n",
    "           11]\n",
    "type(my_list)"
   ]
  },
  {
   "cell_type": "markdown",
   "metadata": {},
   "source": [
    "## A.3 Dictionaries"
   ]
  },
  {
   "cell_type": "code",
   "execution_count": 34,
   "metadata": {},
   "outputs": [],
   "source": [
    "rename_country_map = {\n",
    "    \"Canada\": \"Canada\",\n",
    "    \"Mexico\": \"United Mexican States\",\n",
    "    \"United States\": \"United States of America\",\n",
    "    \"Germany\": \"Federal Republic of Germany\",\n",
    "}"
   ]
  },
  {
   "cell_type": "code",
   "execution_count": 35,
   "metadata": {},
   "outputs": [
    {
     "data": {
      "text/plain": [
       "dict_values(['Canada', 'United Mexican States', 'United States of America', 'Federal Republic of Germany'])"
      ]
     },
     "execution_count": 35,
     "metadata": {},
     "output_type": "execute_result"
    }
   ],
   "source": [
    "rename_country_map.values()"
   ]
  },
  {
   "cell_type": "code",
   "execution_count": 36,
   "metadata": {},
   "outputs": [
    {
     "data": {
      "text/plain": [
       "dict_keys(['Canada', 'Mexico', 'United States', 'Germany'])"
      ]
     },
     "execution_count": 36,
     "metadata": {},
     "output_type": "execute_result"
    }
   ],
   "source": [
    "rename_country_map.keys()"
   ]
  },
  {
   "cell_type": "markdown",
   "metadata": {},
   "source": [
    "# B. Introduction to Pandas\n",
    "\n",
    "### For R users: Pandas is similar to DPLYR!\n",
    "\n",
    "In general we use it to:\n",
    "\n",
    "- Manipulate data (Today's topic)\n",
    "- Viusualize our data (graphing etc.)\n",
    "- Download data directly from the internet\n",
    "- Build models (Regression, Machine learning, Neural Networks)"
   ]
  },
  {
   "cell_type": "markdown",
   "metadata": {},
   "source": [
    "## B.A We must import the library before using!\n",
    "- Again this is similar to R\n",
    "- However unlike R: in order to use the functions (in general) we have to use an acronym to access the functions"
   ]
  },
  {
   "cell_type": "code",
   "execution_count": 37,
   "metadata": {},
   "outputs": [],
   "source": [
    "import pandas as pd"
   ]
  },
  {
   "cell_type": "markdown",
   "metadata": {
    "id": "BihFzDSGccBd"
   },
   "source": [
    "## B.1 Import data\n",
    "- pd.read_stata\n",
    "- pd.read_csv\n",
    "- pd.read_excel"
   ]
  },
  {
   "cell_type": "code",
   "execution_count": 38,
   "metadata": {},
   "outputs": [],
   "source": [
    "url = \"https://github.com/Data-Science-Public-Policy/graspp_2025_spring/raw/refs/heads/module_1/data/examples/module_1/world_bank_data.csv\"\n",
    "df = pd.read_csv(url)"
   ]
  },
  {
   "cell_type": "code",
   "execution_count": 39,
   "metadata": {
    "colab": {
     "base_uri": "https://localhost:8080/"
    },
    "id": "JE03EB3CoMEn",
    "outputId": "bb2ee45d-52f3-4472-e146-1b01b6f650ad"
   },
   "outputs": [
    {
     "data": {
      "text/plain": [
       "pandas.core.frame.DataFrame"
      ]
     },
     "execution_count": 39,
     "metadata": {},
     "output_type": "execute_result"
    }
   ],
   "source": [
    "type(df)"
   ]
  },
  {
   "cell_type": "markdown",
   "metadata": {
    "id": "fBtP0RfVccBe"
   },
   "source": [
    "# B.2 Basics\n"
   ]
  },
  {
   "cell_type": "markdown",
   "metadata": {},
   "source": [
    "### B.2.1 Info"
   ]
  },
  {
   "cell_type": "code",
   "execution_count": 40,
   "metadata": {
    "colab": {
     "base_uri": "https://localhost:8080/"
    },
    "id": "9hfLNbtcccBf",
    "outputId": "a309d011-9061-4898-8d2b-c2c0cc5f07ff"
   },
   "outputs": [
    {
     "name": "stdout",
     "output_type": "stream",
     "text": [
      "<class 'pandas.core.frame.DataFrame'>\n",
      "RangeIndex: 12 entries, 0 to 11\n",
      "Data columns (total 6 columns):\n",
      " #   Column           Non-Null Count  Dtype  \n",
      "---  ------           --------------  -----  \n",
      " 0   Unnamed: 0       12 non-null     int64  \n",
      " 1   indicator        12 non-null     object \n",
      " 2   country          12 non-null     object \n",
      " 3   countryiso3code  12 non-null     object \n",
      " 4   date             12 non-null     int64  \n",
      " 5   value            12 non-null     float64\n",
      "dtypes: float64(1), int64(2), object(3)\n",
      "memory usage: 708.0+ bytes\n"
     ]
    }
   ],
   "source": [
    "df.info()"
   ]
  },
  {
   "cell_type": "markdown",
   "metadata": {
    "id": "WIMUveTsccBf"
   },
   "source": [
    "### B.2.2 Head, tail\n"
   ]
  },
  {
   "cell_type": "code",
   "execution_count": 41,
   "metadata": {
    "colab": {
     "base_uri": "https://localhost:8080/",
     "height": 176
    },
    "id": "d4FONhnxccBg",
    "outputId": "aad3b05d-00f4-42fe-972c-473d900ced9b"
   },
   "outputs": [
    {
     "data": {
      "text/html": [
       "<div>\n",
       "<style scoped>\n",
       "    .dataframe tbody tr th:only-of-type {\n",
       "        vertical-align: middle;\n",
       "    }\n",
       "\n",
       "    .dataframe tbody tr th {\n",
       "        vertical-align: top;\n",
       "    }\n",
       "\n",
       "    .dataframe thead th {\n",
       "        text-align: right;\n",
       "    }\n",
       "</style>\n",
       "<table border=\"1\" class=\"dataframe\">\n",
       "  <thead>\n",
       "    <tr style=\"text-align: right;\">\n",
       "      <th></th>\n",
       "      <th>Unnamed: 0</th>\n",
       "      <th>indicator</th>\n",
       "      <th>country</th>\n",
       "      <th>countryiso3code</th>\n",
       "      <th>date</th>\n",
       "      <th>value</th>\n",
       "    </tr>\n",
       "  </thead>\n",
       "  <tbody>\n",
       "    <tr>\n",
       "      <th>0</th>\n",
       "      <td>0</td>\n",
       "      <td>GDP per capita (current US$)</td>\n",
       "      <td>Canada</td>\n",
       "      <td>CAN</td>\n",
       "      <td>2023</td>\n",
       "      <td>53431.185706</td>\n",
       "    </tr>\n",
       "    <tr>\n",
       "      <th>1</th>\n",
       "      <td>1</td>\n",
       "      <td>GDP per capita (current US$)</td>\n",
       "      <td>Canada</td>\n",
       "      <td>CAN</td>\n",
       "      <td>2022</td>\n",
       "      <td>55509.393176</td>\n",
       "    </tr>\n",
       "  </tbody>\n",
       "</table>\n",
       "</div>"
      ],
      "text/plain": [
       "   Unnamed: 0                     indicator country countryiso3code  date  \\\n",
       "0           0  GDP per capita (current US$)  Canada             CAN  2023   \n",
       "1           1  GDP per capita (current US$)  Canada             CAN  2022   \n",
       "\n",
       "          value  \n",
       "0  53431.185706  \n",
       "1  55509.393176  "
      ]
     },
     "execution_count": 41,
     "metadata": {},
     "output_type": "execute_result"
    }
   ],
   "source": [
    "df.head(2)"
   ]
  },
  {
   "cell_type": "code",
   "execution_count": 42,
   "metadata": {
    "colab": {
     "base_uri": "https://localhost:8080/",
     "height": 176
    },
    "id": "Yq5j0Oj5ccBg",
    "outputId": "a662c989-74ad-4606-b00a-014d16a55d92"
   },
   "outputs": [
    {
     "data": {
      "text/html": [
       "<div>\n",
       "<style scoped>\n",
       "    .dataframe tbody tr th:only-of-type {\n",
       "        vertical-align: middle;\n",
       "    }\n",
       "\n",
       "    .dataframe tbody tr th {\n",
       "        vertical-align: top;\n",
       "    }\n",
       "\n",
       "    .dataframe thead th {\n",
       "        text-align: right;\n",
       "    }\n",
       "</style>\n",
       "<table border=\"1\" class=\"dataframe\">\n",
       "  <thead>\n",
       "    <tr style=\"text-align: right;\">\n",
       "      <th></th>\n",
       "      <th>Unnamed: 0</th>\n",
       "      <th>indicator</th>\n",
       "      <th>country</th>\n",
       "      <th>countryiso3code</th>\n",
       "      <th>date</th>\n",
       "      <th>value</th>\n",
       "    </tr>\n",
       "  </thead>\n",
       "  <tbody>\n",
       "    <tr>\n",
       "      <th>10</th>\n",
       "      <td>10</td>\n",
       "      <td>GDP per capita (current US$)</td>\n",
       "      <td>United States</td>\n",
       "      <td>USA</td>\n",
       "      <td>2022</td>\n",
       "      <td>78035.175360</td>\n",
       "    </tr>\n",
       "    <tr>\n",
       "      <th>11</th>\n",
       "      <td>11</td>\n",
       "      <td>GDP per capita (current US$)</td>\n",
       "      <td>United States</td>\n",
       "      <td>USA</td>\n",
       "      <td>2021</td>\n",
       "      <td>71318.307359</td>\n",
       "    </tr>\n",
       "  </tbody>\n",
       "</table>\n",
       "</div>"
      ],
      "text/plain": [
       "    Unnamed: 0                     indicator        country countryiso3code  \\\n",
       "10          10  GDP per capita (current US$)  United States             USA   \n",
       "11          11  GDP per capita (current US$)  United States             USA   \n",
       "\n",
       "    date         value  \n",
       "10  2022  78035.175360  \n",
       "11  2021  71318.307359  "
      ]
     },
     "execution_count": 42,
     "metadata": {},
     "output_type": "execute_result"
    }
   ],
   "source": [
    "df.tail(2)"
   ]
  },
  {
   "cell_type": "markdown",
   "metadata": {
    "id": "W_2N08-2ccBh"
   },
   "source": [
    "## B.2.3 Descriptive stats"
   ]
  },
  {
   "cell_type": "code",
   "execution_count": 43,
   "metadata": {
    "colab": {
     "base_uri": "https://localhost:8080/",
     "height": 399
    },
    "id": "pcR67dURccBh",
    "outputId": "9e1d6eb7-b6ad-43cd-d399-60fa6c1a465f"
   },
   "outputs": [
    {
     "data": {
      "text/html": [
       "<div>\n",
       "<style scoped>\n",
       "    .dataframe tbody tr th:only-of-type {\n",
       "        vertical-align: middle;\n",
       "    }\n",
       "\n",
       "    .dataframe tbody tr th {\n",
       "        vertical-align: top;\n",
       "    }\n",
       "\n",
       "    .dataframe thead th {\n",
       "        text-align: right;\n",
       "    }\n",
       "</style>\n",
       "<table border=\"1\" class=\"dataframe\">\n",
       "  <thead>\n",
       "    <tr style=\"text-align: right;\">\n",
       "      <th></th>\n",
       "      <th>Unnamed: 0</th>\n",
       "      <th>date</th>\n",
       "      <th>value</th>\n",
       "    </tr>\n",
       "  </thead>\n",
       "  <tbody>\n",
       "    <tr>\n",
       "      <th>count</th>\n",
       "      <td>12.000000</td>\n",
       "      <td>12.000000</td>\n",
       "      <td>12.000000</td>\n",
       "    </tr>\n",
       "    <tr>\n",
       "      <th>mean</th>\n",
       "      <td>5.500000</td>\n",
       "      <td>2022.000000</td>\n",
       "      <td>44741.011336</td>\n",
       "    </tr>\n",
       "    <tr>\n",
       "      <th>std</th>\n",
       "      <td>3.605551</td>\n",
       "      <td>0.852803</td>\n",
       "      <td>25272.662972</td>\n",
       "    </tr>\n",
       "    <tr>\n",
       "      <th>min</th>\n",
       "      <td>0.000000</td>\n",
       "      <td>2021.000000</td>\n",
       "      <td>10314.050674</td>\n",
       "    </tr>\n",
       "    <tr>\n",
       "      <th>25%</th>\n",
       "      <td>2.750000</td>\n",
       "      <td>2021.000000</td>\n",
       "      <td>28772.401205</td>\n",
       "    </tr>\n",
       "    <tr>\n",
       "      <th>50%</th>\n",
       "      <td>5.500000</td>\n",
       "      <td>2022.000000</td>\n",
       "      <td>46277.690748</td>\n",
       "    </tr>\n",
       "    <tr>\n",
       "      <th>75%</th>\n",
       "      <td>8.250000</td>\n",
       "      <td>2023.000000</td>\n",
       "      <td>59461.621722</td>\n",
       "    </tr>\n",
       "    <tr>\n",
       "      <th>max</th>\n",
       "      <td>11.000000</td>\n",
       "      <td>2023.000000</td>\n",
       "      <td>82769.412211</td>\n",
       "    </tr>\n",
       "  </tbody>\n",
       "</table>\n",
       "</div>"
      ],
      "text/plain": [
       "       Unnamed: 0         date         value\n",
       "count   12.000000    12.000000     12.000000\n",
       "mean     5.500000  2022.000000  44741.011336\n",
       "std      3.605551     0.852803  25272.662972\n",
       "min      0.000000  2021.000000  10314.050674\n",
       "25%      2.750000  2021.000000  28772.401205\n",
       "50%      5.500000  2022.000000  46277.690748\n",
       "75%      8.250000  2023.000000  59461.621722\n",
       "max     11.000000  2023.000000  82769.412211"
      ]
     },
     "execution_count": 43,
     "metadata": {},
     "output_type": "execute_result"
    }
   ],
   "source": [
    "df.describe()"
   ]
  },
  {
   "cell_type": "markdown",
   "metadata": {
    "id": "bRZ3oCjnccBh"
   },
   "source": [
    "## B.2.4 Column names"
   ]
  },
  {
   "cell_type": "code",
   "execution_count": 44,
   "metadata": {
    "colab": {
     "base_uri": "https://localhost:8080/"
    },
    "id": "a1SvzWtPpm1F",
    "outputId": "04b58c90-56d8-4139-9bb6-153ae80060b7"
   },
   "outputs": [
    {
     "data": {
      "text/plain": [
       "Index(['Unnamed: 0', 'indicator', 'country', 'countryiso3code', 'date',\n",
       "       'value'],\n",
       "      dtype='object')"
      ]
     },
     "execution_count": 44,
     "metadata": {},
     "output_type": "execute_result"
    }
   ],
   "source": [
    " df.columns"
   ]
  },
  {
   "cell_type": "code",
   "execution_count": 45,
   "metadata": {},
   "outputs": [],
   "source": [
    "columns = df.columns"
   ]
  },
  {
   "cell_type": "markdown",
   "metadata": {
    "id": "r5UTmekWccBh"
   },
   "source": [
    "#### Manipulating lists"
   ]
  },
  {
   "cell_type": "code",
   "execution_count": 46,
   "metadata": {
    "colab": {
     "base_uri": "https://localhost:8080/"
    },
    "id": "DQzDMXeRccBh",
    "outputId": "51aaf7f3-b87c-4d2d-863e-61071277609e"
   },
   "outputs": [
    {
     "data": {
      "text/plain": [
       "Index(['indicator', 'country'], dtype='object')"
      ]
     },
     "execution_count": 46,
     "metadata": {},
     "output_type": "execute_result"
    }
   ],
   "source": [
    "# The second element to the third element\n",
    "columns[1:3] # Second element in slice is not inclusive"
   ]
  },
  {
   "cell_type": "code",
   "execution_count": 47,
   "metadata": {
    "colab": {
     "base_uri": "https://localhost:8080/"
    },
    "id": "n9_gsszFccBi",
    "outputId": "b13ea12f-178f-4f4e-f619-efae052af84d"
   },
   "outputs": [
    {
     "data": {
      "text/plain": [
       "Index(['Unnamed: 0', 'indicator'], dtype='object')"
      ]
     },
     "execution_count": 47,
     "metadata": {},
     "output_type": "execute_result"
    }
   ],
   "source": [
    "# Indexing starts at zero\n",
    "columns[0:2]"
   ]
  },
  {
   "cell_type": "code",
   "execution_count": 48,
   "metadata": {
    "colab": {
     "base_uri": "https://localhost:8080/"
    },
    "id": "28O4SP3jccBi",
    "outputId": "91c558f6-d251-48d8-ebac-fdc4352efcc0"
   },
   "outputs": [
    {
     "data": {
      "text/plain": [
       "Index(['date', 'value'], dtype='object')"
      ]
     },
     "execution_count": 48,
     "metadata": {},
     "output_type": "execute_result"
    }
   ],
   "source": [
    "columns[-2:]"
   ]
  },
  {
   "cell_type": "markdown",
   "metadata": {},
   "source": [
    "## B.3 Select and Filter"
   ]
  },
  {
   "cell_type": "markdown",
   "metadata": {},
   "source": [
    "### B.3.1 Select column"
   ]
  },
  {
   "cell_type": "code",
   "execution_count": 49,
   "metadata": {},
   "outputs": [
    {
     "data": {
      "text/plain": [
       "0    Canada\n",
       "1    Canada\n",
       "Name: country, dtype: object"
      ]
     },
     "execution_count": 49,
     "metadata": {},
     "output_type": "execute_result"
    }
   ],
   "source": [
    "df['country'].head(2)"
   ]
  },
  {
   "cell_type": "code",
   "execution_count": 50,
   "metadata": {},
   "outputs": [
    {
     "data": {
      "text/plain": [
       "0    Canada\n",
       "1    Canada\n",
       "Name: country, dtype: object"
      ]
     },
     "execution_count": 50,
     "metadata": {},
     "output_type": "execute_result"
    }
   ],
   "source": [
    "df.country.head(2)"
   ]
  },
  {
   "cell_type": "markdown",
   "metadata": {},
   "source": [
    "## B.3.2 Subset Rows\n",
    "\n",
    "<img src=\"Screenshots/subset_row.svg\" />\n"
   ]
  },
  {
   "cell_type": "markdown",
   "metadata": {},
   "source": [
    "### B.3.2.1 Show unique values in a column"
   ]
  },
  {
   "cell_type": "code",
   "execution_count": 51,
   "metadata": {},
   "outputs": [
    {
     "data": {
      "text/plain": [
       "array(['Canada', 'Japan', 'Mexico', 'United States'], dtype=object)"
      ]
     },
     "execution_count": 51,
     "metadata": {},
     "output_type": "execute_result"
    }
   ],
   "source": [
    "df.country.unique()"
   ]
  },
  {
   "cell_type": "markdown",
   "metadata": {},
   "source": [
    "#### B.3.2.2 Select Row"
   ]
  },
  {
   "cell_type": "code",
   "execution_count": 52,
   "metadata": {},
   "outputs": [
    {
     "data": {
      "text/html": [
       "<div>\n",
       "<style scoped>\n",
       "    .dataframe tbody tr th:only-of-type {\n",
       "        vertical-align: middle;\n",
       "    }\n",
       "\n",
       "    .dataframe tbody tr th {\n",
       "        vertical-align: top;\n",
       "    }\n",
       "\n",
       "    .dataframe thead th {\n",
       "        text-align: right;\n",
       "    }\n",
       "</style>\n",
       "<table border=\"1\" class=\"dataframe\">\n",
       "  <thead>\n",
       "    <tr style=\"text-align: right;\">\n",
       "      <th></th>\n",
       "      <th>Unnamed: 0</th>\n",
       "      <th>indicator</th>\n",
       "      <th>country</th>\n",
       "      <th>countryiso3code</th>\n",
       "      <th>date</th>\n",
       "      <th>value</th>\n",
       "    </tr>\n",
       "  </thead>\n",
       "  <tbody>\n",
       "    <tr>\n",
       "      <th>3</th>\n",
       "      <td>3</td>\n",
       "      <td>GDP per capita (current US$)</td>\n",
       "      <td>Japan</td>\n",
       "      <td>JPN</td>\n",
       "      <td>2023</td>\n",
       "      <td>33766.526825</td>\n",
       "    </tr>\n",
       "    <tr>\n",
       "      <th>4</th>\n",
       "      <td>4</td>\n",
       "      <td>GDP per capita (current US$)</td>\n",
       "      <td>Japan</td>\n",
       "      <td>JPN</td>\n",
       "      <td>2022</td>\n",
       "      <td>34017.271808</td>\n",
       "    </tr>\n",
       "    <tr>\n",
       "      <th>5</th>\n",
       "      <td>5</td>\n",
       "      <td>GDP per capita (current US$)</td>\n",
       "      <td>Japan</td>\n",
       "      <td>JPN</td>\n",
       "      <td>2021</td>\n",
       "      <td>40058.537328</td>\n",
       "    </tr>\n",
       "  </tbody>\n",
       "</table>\n",
       "</div>"
      ],
      "text/plain": [
       "   Unnamed: 0                     indicator country countryiso3code  date  \\\n",
       "3           3  GDP per capita (current US$)   Japan             JPN  2023   \n",
       "4           4  GDP per capita (current US$)   Japan             JPN  2022   \n",
       "5           5  GDP per capita (current US$)   Japan             JPN  2021   \n",
       "\n",
       "          value  \n",
       "3  33766.526825  \n",
       "4  34017.271808  \n",
       "5  40058.537328  "
      ]
     },
     "execution_count": 52,
     "metadata": {},
     "output_type": "execute_result"
    }
   ],
   "source": [
    "df.query(\"country == 'Japan'\")"
   ]
  },
  {
   "cell_type": "code",
   "execution_count": 53,
   "metadata": {},
   "outputs": [
    {
     "data": {
      "text/plain": [
       "0    False\n",
       "1    False\n",
       "Name: country, dtype: bool"
      ]
     },
     "execution_count": 53,
     "metadata": {},
     "output_type": "execute_result"
    }
   ],
   "source": [
    "mask = df.country == 'Japan'\n",
    "mask[:2]"
   ]
  },
  {
   "cell_type": "code",
   "execution_count": 54,
   "metadata": {},
   "outputs": [
    {
     "data": {
      "text/html": [
       "<div>\n",
       "<style scoped>\n",
       "    .dataframe tbody tr th:only-of-type {\n",
       "        vertical-align: middle;\n",
       "    }\n",
       "\n",
       "    .dataframe tbody tr th {\n",
       "        vertical-align: top;\n",
       "    }\n",
       "\n",
       "    .dataframe thead th {\n",
       "        text-align: right;\n",
       "    }\n",
       "</style>\n",
       "<table border=\"1\" class=\"dataframe\">\n",
       "  <thead>\n",
       "    <tr style=\"text-align: right;\">\n",
       "      <th></th>\n",
       "      <th>Unnamed: 0</th>\n",
       "      <th>indicator</th>\n",
       "      <th>country</th>\n",
       "      <th>countryiso3code</th>\n",
       "      <th>date</th>\n",
       "      <th>value</th>\n",
       "    </tr>\n",
       "  </thead>\n",
       "  <tbody>\n",
       "    <tr>\n",
       "      <th>3</th>\n",
       "      <td>3</td>\n",
       "      <td>GDP per capita (current US$)</td>\n",
       "      <td>Japan</td>\n",
       "      <td>JPN</td>\n",
       "      <td>2023</td>\n",
       "      <td>33766.526825</td>\n",
       "    </tr>\n",
       "    <tr>\n",
       "      <th>4</th>\n",
       "      <td>4</td>\n",
       "      <td>GDP per capita (current US$)</td>\n",
       "      <td>Japan</td>\n",
       "      <td>JPN</td>\n",
       "      <td>2022</td>\n",
       "      <td>34017.271808</td>\n",
       "    </tr>\n",
       "    <tr>\n",
       "      <th>5</th>\n",
       "      <td>5</td>\n",
       "      <td>GDP per capita (current US$)</td>\n",
       "      <td>Japan</td>\n",
       "      <td>JPN</td>\n",
       "      <td>2021</td>\n",
       "      <td>40058.537328</td>\n",
       "    </tr>\n",
       "  </tbody>\n",
       "</table>\n",
       "</div>"
      ],
      "text/plain": [
       "   Unnamed: 0                     indicator country countryiso3code  date  \\\n",
       "3           3  GDP per capita (current US$)   Japan             JPN  2023   \n",
       "4           4  GDP per capita (current US$)   Japan             JPN  2022   \n",
       "5           5  GDP per capita (current US$)   Japan             JPN  2021   \n",
       "\n",
       "          value  \n",
       "3  33766.526825  \n",
       "4  34017.271808  \n",
       "5  40058.537328  "
      ]
     },
     "execution_count": 54,
     "metadata": {},
     "output_type": "execute_result"
    }
   ],
   "source": [
    "df[mask]\n",
    "df.loc[mask]"
   ]
  },
  {
   "cell_type": "markdown",
   "metadata": {},
   "source": [
    "#### B.2.2.3 Subset multiple conditions"
   ]
  },
  {
   "cell_type": "code",
   "execution_count": 55,
   "metadata": {},
   "outputs": [
    {
     "data": {
      "text/html": [
       "<div>\n",
       "<style scoped>\n",
       "    .dataframe tbody tr th:only-of-type {\n",
       "        vertical-align: middle;\n",
       "    }\n",
       "\n",
       "    .dataframe tbody tr th {\n",
       "        vertical-align: top;\n",
       "    }\n",
       "\n",
       "    .dataframe thead th {\n",
       "        text-align: right;\n",
       "    }\n",
       "</style>\n",
       "<table border=\"1\" class=\"dataframe\">\n",
       "  <thead>\n",
       "    <tr style=\"text-align: right;\">\n",
       "      <th></th>\n",
       "      <th>Unnamed: 0</th>\n",
       "      <th>indicator</th>\n",
       "      <th>country</th>\n",
       "      <th>countryiso3code</th>\n",
       "      <th>date</th>\n",
       "      <th>value</th>\n",
       "    </tr>\n",
       "  </thead>\n",
       "  <tbody>\n",
       "    <tr>\n",
       "      <th>3</th>\n",
       "      <td>3</td>\n",
       "      <td>GDP per capita (current US$)</td>\n",
       "      <td>Japan</td>\n",
       "      <td>JPN</td>\n",
       "      <td>2023</td>\n",
       "      <td>33766.526825</td>\n",
       "    </tr>\n",
       "    <tr>\n",
       "      <th>4</th>\n",
       "      <td>4</td>\n",
       "      <td>GDP per capita (current US$)</td>\n",
       "      <td>Japan</td>\n",
       "      <td>JPN</td>\n",
       "      <td>2022</td>\n",
       "      <td>34017.271808</td>\n",
       "    </tr>\n",
       "  </tbody>\n",
       "</table>\n",
       "</div>"
      ],
      "text/plain": [
       "   Unnamed: 0                     indicator country countryiso3code  date  \\\n",
       "3           3  GDP per capita (current US$)   Japan             JPN  2023   \n",
       "4           4  GDP per capita (current US$)   Japan             JPN  2022   \n",
       "\n",
       "          value  \n",
       "3  33766.526825  \n",
       "4  34017.271808  "
      ]
     },
     "execution_count": 55,
     "metadata": {},
     "output_type": "execute_result"
    }
   ],
   "source": [
    "df.query(\"country == 'Japan' & date>2021\")"
   ]
  },
  {
   "cell_type": "markdown",
   "metadata": {},
   "source": [
    "#### B.3.2.4 Subset in a list"
   ]
  },
  {
   "cell_type": "code",
   "execution_count": 56,
   "metadata": {},
   "outputs": [
    {
     "data": {
      "text/html": [
       "<div>\n",
       "<style scoped>\n",
       "    .dataframe tbody tr th:only-of-type {\n",
       "        vertical-align: middle;\n",
       "    }\n",
       "\n",
       "    .dataframe tbody tr th {\n",
       "        vertical-align: top;\n",
       "    }\n",
       "\n",
       "    .dataframe thead th {\n",
       "        text-align: right;\n",
       "    }\n",
       "</style>\n",
       "<table border=\"1\" class=\"dataframe\">\n",
       "  <thead>\n",
       "    <tr style=\"text-align: right;\">\n",
       "      <th></th>\n",
       "      <th>Unnamed: 0</th>\n",
       "      <th>indicator</th>\n",
       "      <th>country</th>\n",
       "      <th>countryiso3code</th>\n",
       "      <th>date</th>\n",
       "      <th>value</th>\n",
       "    </tr>\n",
       "  </thead>\n",
       "  <tbody>\n",
       "    <tr>\n",
       "      <th>3</th>\n",
       "      <td>3</td>\n",
       "      <td>GDP per capita (current US$)</td>\n",
       "      <td>Japan</td>\n",
       "      <td>JPN</td>\n",
       "      <td>2023</td>\n",
       "      <td>33766.526825</td>\n",
       "    </tr>\n",
       "    <tr>\n",
       "      <th>4</th>\n",
       "      <td>4</td>\n",
       "      <td>GDP per capita (current US$)</td>\n",
       "      <td>Japan</td>\n",
       "      <td>JPN</td>\n",
       "      <td>2022</td>\n",
       "      <td>34017.271808</td>\n",
       "    </tr>\n",
       "    <tr>\n",
       "      <th>5</th>\n",
       "      <td>5</td>\n",
       "      <td>GDP per capita (current US$)</td>\n",
       "      <td>Japan</td>\n",
       "      <td>JPN</td>\n",
       "      <td>2021</td>\n",
       "      <td>40058.537328</td>\n",
       "    </tr>\n",
       "    <tr>\n",
       "      <th>6</th>\n",
       "      <td>6</td>\n",
       "      <td>GDP per capita (current US$)</td>\n",
       "      <td>Mexico</td>\n",
       "      <td>MEX</td>\n",
       "      <td>2023</td>\n",
       "      <td>13790.024343</td>\n",
       "    </tr>\n",
       "    <tr>\n",
       "      <th>7</th>\n",
       "      <td>7</td>\n",
       "      <td>GDP per capita (current US$)</td>\n",
       "      <td>Mexico</td>\n",
       "      <td>MEX</td>\n",
       "      <td>2022</td>\n",
       "      <td>11385.407076</td>\n",
       "    </tr>\n",
       "    <tr>\n",
       "      <th>8</th>\n",
       "      <td>8</td>\n",
       "      <td>GDP per capita (current US$)</td>\n",
       "      <td>Mexico</td>\n",
       "      <td>MEX</td>\n",
       "      <td>2021</td>\n",
       "      <td>10314.050674</td>\n",
       "    </tr>\n",
       "  </tbody>\n",
       "</table>\n",
       "</div>"
      ],
      "text/plain": [
       "   Unnamed: 0                     indicator country countryiso3code  date  \\\n",
       "3           3  GDP per capita (current US$)   Japan             JPN  2023   \n",
       "4           4  GDP per capita (current US$)   Japan             JPN  2022   \n",
       "5           5  GDP per capita (current US$)   Japan             JPN  2021   \n",
       "6           6  GDP per capita (current US$)  Mexico             MEX  2023   \n",
       "7           7  GDP per capita (current US$)  Mexico             MEX  2022   \n",
       "8           8  GDP per capita (current US$)  Mexico             MEX  2021   \n",
       "\n",
       "          value  \n",
       "3  33766.526825  \n",
       "4  34017.271808  \n",
       "5  40058.537328  \n",
       "6  13790.024343  \n",
       "7  11385.407076  \n",
       "8  10314.050674  "
      ]
     },
     "execution_count": 56,
     "metadata": {},
     "output_type": "execute_result"
    }
   ],
   "source": [
    "df.query(\"country in ['Japan', 'Mexico']\")"
   ]
  },
  {
   "cell_type": "markdown",
   "metadata": {},
   "source": [
    "### B.3.2.5 Subset rows and columns"
   ]
  },
  {
   "cell_type": "code",
   "execution_count": 57,
   "metadata": {},
   "outputs": [
    {
     "data": {
      "text/html": [
       "<div>\n",
       "<style scoped>\n",
       "    .dataframe tbody tr th:only-of-type {\n",
       "        vertical-align: middle;\n",
       "    }\n",
       "\n",
       "    .dataframe tbody tr th {\n",
       "        vertical-align: top;\n",
       "    }\n",
       "\n",
       "    .dataframe thead th {\n",
       "        text-align: right;\n",
       "    }\n",
       "</style>\n",
       "<table border=\"1\" class=\"dataframe\">\n",
       "  <thead>\n",
       "    <tr style=\"text-align: right;\">\n",
       "      <th></th>\n",
       "      <th>country</th>\n",
       "      <th>date</th>\n",
       "    </tr>\n",
       "  </thead>\n",
       "  <tbody>\n",
       "    <tr>\n",
       "      <th>3</th>\n",
       "      <td>Japan</td>\n",
       "      <td>2023</td>\n",
       "    </tr>\n",
       "    <tr>\n",
       "      <th>4</th>\n",
       "      <td>Japan</td>\n",
       "      <td>2022</td>\n",
       "    </tr>\n",
       "    <tr>\n",
       "      <th>5</th>\n",
       "      <td>Japan</td>\n",
       "      <td>2021</td>\n",
       "    </tr>\n",
       "    <tr>\n",
       "      <th>6</th>\n",
       "      <td>Mexico</td>\n",
       "      <td>2023</td>\n",
       "    </tr>\n",
       "    <tr>\n",
       "      <th>7</th>\n",
       "      <td>Mexico</td>\n",
       "      <td>2022</td>\n",
       "    </tr>\n",
       "    <tr>\n",
       "      <th>8</th>\n",
       "      <td>Mexico</td>\n",
       "      <td>2021</td>\n",
       "    </tr>\n",
       "  </tbody>\n",
       "</table>\n",
       "</div>"
      ],
      "text/plain": [
       "  country  date\n",
       "3   Japan  2023\n",
       "4   Japan  2022\n",
       "5   Japan  2021\n",
       "6  Mexico  2023\n",
       "7  Mexico  2022\n",
       "8  Mexico  2021"
      ]
     },
     "execution_count": 57,
     "metadata": {},
     "output_type": "execute_result"
    }
   ],
   "source": [
    "df.query(\"country in ['Japan', 'Mexico']\")[['country', 'date']]"
   ]
  },
  {
   "cell_type": "markdown",
   "metadata": {},
   "source": [
    "## B.3 Rename \n",
    "\n",
    "### B.3.1 Rename columns"
   ]
  },
  {
   "cell_type": "code",
   "execution_count": 58,
   "metadata": {},
   "outputs": [
    {
     "data": {
      "text/html": [
       "<div>\n",
       "<style scoped>\n",
       "    .dataframe tbody tr th:only-of-type {\n",
       "        vertical-align: middle;\n",
       "    }\n",
       "\n",
       "    .dataframe tbody tr th {\n",
       "        vertical-align: top;\n",
       "    }\n",
       "\n",
       "    .dataframe thead th {\n",
       "        text-align: right;\n",
       "    }\n",
       "</style>\n",
       "<table border=\"1\" class=\"dataframe\">\n",
       "  <thead>\n",
       "    <tr style=\"text-align: right;\">\n",
       "      <th></th>\n",
       "      <th>Unnamed: 0</th>\n",
       "      <th>indicator</th>\n",
       "      <th>country</th>\n",
       "      <th>countryiso3code</th>\n",
       "      <th>date</th>\n",
       "      <th>GDP</th>\n",
       "    </tr>\n",
       "  </thead>\n",
       "  <tbody>\n",
       "    <tr>\n",
       "      <th>0</th>\n",
       "      <td>0</td>\n",
       "      <td>GDP per capita (current US$)</td>\n",
       "      <td>Canada</td>\n",
       "      <td>CAN</td>\n",
       "      <td>2023</td>\n",
       "      <td>53431.185706</td>\n",
       "    </tr>\n",
       "    <tr>\n",
       "      <th>1</th>\n",
       "      <td>1</td>\n",
       "      <td>GDP per capita (current US$)</td>\n",
       "      <td>Canada</td>\n",
       "      <td>CAN</td>\n",
       "      <td>2022</td>\n",
       "      <td>55509.393176</td>\n",
       "    </tr>\n",
       "  </tbody>\n",
       "</table>\n",
       "</div>"
      ],
      "text/plain": [
       "   Unnamed: 0                     indicator country countryiso3code  date  \\\n",
       "0           0  GDP per capita (current US$)  Canada             CAN  2023   \n",
       "1           1  GDP per capita (current US$)  Canada             CAN  2022   \n",
       "\n",
       "            GDP  \n",
       "0  53431.185706  \n",
       "1  55509.393176  "
      ]
     },
     "execution_count": 58,
     "metadata": {},
     "output_type": "execute_result"
    }
   ],
   "source": [
    "df.rename({\"value\" : \"GDP\"}, axis=1).head(2)"
   ]
  },
  {
   "cell_type": "markdown",
   "metadata": {},
   "source": [
    "### B.3.2 Rename rows"
   ]
  },
  {
   "cell_type": "code",
   "execution_count": 59,
   "metadata": {},
   "outputs": [
    {
     "data": {
      "text/plain": [
       "0     O CANANDA\n",
       "1     O CANANDA\n",
       "2     O CANANDA\n",
       "3           NaN\n",
       "4           NaN\n",
       "5           NaN\n",
       "6           NaN\n",
       "7           NaN\n",
       "8           NaN\n",
       "9           NaN\n",
       "10          NaN\n",
       "11          NaN\n",
       "Name: country, dtype: object"
      ]
     },
     "execution_count": 59,
     "metadata": {},
     "output_type": "execute_result"
    }
   ],
   "source": [
    "rename_country_map = {\n",
    "    \"Canada\" : \"O CANANDA\"\n",
    "}\n",
    "df.country.replace(rename_country_map)\n",
    "df.country.map(rename_country_map)"
   ]
  },
  {
   "cell_type": "markdown",
   "metadata": {},
   "source": [
    "## B.4 Apply functions to pandas"
   ]
  },
  {
   "cell_type": "markdown",
   "metadata": {},
   "source": [
    "### B.4.1 Basics"
   ]
  },
  {
   "cell_type": "code",
   "execution_count": 60,
   "metadata": {},
   "outputs": [
    {
     "name": "stdout",
     "output_type": "stream",
     "text": [
      "Head\n",
      "   Unnamed: 0                     indicator country countryiso3code  date  \\\n",
      "0           0  GDP per capita (current US$)  Canada             CAN  2023   \n",
      "1           1  GDP per capita (current US$)  Canada             CAN  2022   \n",
      "\n",
      "          value  \n",
      "0  53431.185706  \n",
      "1  55509.393176  \n",
      "\n",
      "Tail\n",
      "    Unnamed: 0                     indicator        country countryiso3code  \\\n",
      "10          10  GDP per capita (current US$)  United States             USA   \n",
      "11          11  GDP per capita (current US$)  United States             USA   \n",
      "\n",
      "    date         value  \n",
      "10  2022  78035.175360  \n",
      "11  2021  71318.307359  \n",
      "\n",
      "Columns\n",
      "Index(['Unnamed: 0', 'indicator', 'country'], dtype='object')\n",
      "\n",
      "Info\n",
      "<class 'pandas.core.frame.DataFrame'>\n",
      "RangeIndex: 12 entries, 0 to 11\n",
      "Data columns (total 6 columns):\n",
      " #   Column           Non-Null Count  Dtype  \n",
      "---  ------           --------------  -----  \n",
      " 0   Unnamed: 0       12 non-null     int64  \n",
      " 1   indicator        12 non-null     object \n",
      " 2   country          12 non-null     object \n",
      " 3   countryiso3code  12 non-null     object \n",
      " 4   date             12 non-null     int64  \n",
      " 5   value            12 non-null     float64\n",
      "dtypes: float64(1), int64(2), object(3)\n",
      "memory usage: 708.0+ bytes\n",
      "None\n"
     ]
    }
   ],
   "source": [
    "def basics(data):\n",
    "    print('Head')\n",
    "    print(data.head(2))\n",
    "    print('')\n",
    "    print('Tail')\n",
    "    print(data.tail(2))\n",
    "    print('')\n",
    "    print('Columns')\n",
    "    print(data.columns[:3])\n",
    "    print('')\n",
    "    print('Info')\n",
    "    print(data.info())\n",
    "\n",
    "basics(df)"
   ]
  },
  {
   "cell_type": "markdown",
   "metadata": {},
   "source": [
    "### B.4.2 subset"
   ]
  },
  {
   "cell_type": "code",
   "execution_count": 61,
   "metadata": {},
   "outputs": [
    {
     "data": {
      "text/html": [
       "<div>\n",
       "<style scoped>\n",
       "    .dataframe tbody tr th:only-of-type {\n",
       "        vertical-align: middle;\n",
       "    }\n",
       "\n",
       "    .dataframe tbody tr th {\n",
       "        vertical-align: top;\n",
       "    }\n",
       "\n",
       "    .dataframe thead th {\n",
       "        text-align: right;\n",
       "    }\n",
       "</style>\n",
       "<table border=\"1\" class=\"dataframe\">\n",
       "  <thead>\n",
       "    <tr style=\"text-align: right;\">\n",
       "      <th></th>\n",
       "      <th>country</th>\n",
       "      <th>date</th>\n",
       "    </tr>\n",
       "  </thead>\n",
       "  <tbody>\n",
       "    <tr>\n",
       "      <th>3</th>\n",
       "      <td>Japan</td>\n",
       "      <td>2023</td>\n",
       "    </tr>\n",
       "    <tr>\n",
       "      <th>4</th>\n",
       "      <td>Japan</td>\n",
       "      <td>2022</td>\n",
       "    </tr>\n",
       "    <tr>\n",
       "      <th>5</th>\n",
       "      <td>Japan</td>\n",
       "      <td>2021</td>\n",
       "    </tr>\n",
       "    <tr>\n",
       "      <th>6</th>\n",
       "      <td>Mexico</td>\n",
       "      <td>2023</td>\n",
       "    </tr>\n",
       "    <tr>\n",
       "      <th>7</th>\n",
       "      <td>Mexico</td>\n",
       "      <td>2022</td>\n",
       "    </tr>\n",
       "    <tr>\n",
       "      <th>8</th>\n",
       "      <td>Mexico</td>\n",
       "      <td>2021</td>\n",
       "    </tr>\n",
       "  </tbody>\n",
       "</table>\n",
       "</div>"
      ],
      "text/plain": [
       "  country  date\n",
       "3   Japan  2023\n",
       "4   Japan  2022\n",
       "5   Japan  2021\n",
       "6  Mexico  2023\n",
       "7  Mexico  2022\n",
       "8  Mexico  2021"
      ]
     },
     "execution_count": 61,
     "metadata": {},
     "output_type": "execute_result"
    }
   ],
   "source": [
    "def subset(countries, columns):\n",
    "    out = df.query(f\"country in {countries}\")[columns]\n",
    "    return out\n",
    "subset(\n",
    "    countries = ['Japan', 'Mexico'],\n",
    "    columns = ['country', 'date']\n",
    ")"
   ]
  },
  {
   "cell_type": "code",
   "execution_count": null,
   "metadata": {},
   "outputs": [],
   "source": []
  }
 ],
 "metadata": {
  "colab": {
   "collapsed_sections": [],
   "name": "Session_1_Notes.ipynb",
   "provenance": []
  },
  "kernelspec": {
   "display_name": "Python 3 (ipykernel)",
   "language": "python",
   "name": "python3"
  },
  "language_info": {
   "codemirror_mode": {
    "name": "ipython",
    "version": 3
   },
   "file_extension": ".py",
   "mimetype": "text/x-python",
   "name": "python",
   "nbconvert_exporter": "python",
   "pygments_lexer": "ipython3",
   "version": "3.12.7"
  }
 },
 "nbformat": 4,
 "nbformat_minor": 4
}
